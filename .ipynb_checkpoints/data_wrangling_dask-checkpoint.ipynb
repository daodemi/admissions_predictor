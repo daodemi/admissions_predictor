{
 "cells": [
  {
   "cell_type": "code",
   "execution_count": 1,
   "metadata": {},
   "outputs": [],
   "source": [
    "import dask.dataframe as dd"
   ]
  },
  {
   "cell_type": "markdown",
   "metadata": {},
   "source": [
    "### Create dask dataframe"
   ]
  },
  {
   "cell_type": "code",
   "execution_count": 2,
   "metadata": {},
   "outputs": [],
   "source": [
    "columns = ['AGE', 'AMONTH','AWEEKEND','CHRON1','CHRON2','CHRON3','CHRON4','CHRON5','CHRON6','CHRON7','CHRON8','CHRON9',\n",
    "    'CHRON10','CHRON11','CHRON12','CHRON13','CHRON14','CHRON15','DIED_VISIT','DISCWT','DISP_ED','DQTR',\n",
    "    'DX1','DX2','DX3','DX4','DX5','DX6','DX7','DX8','DX9','DX10','DX11','DX12','DX13','DX14','DX15',\n",
    "    'DXCCS1','DXCCS2','DXCCS3','DXCCS4','DXCCS5','DXCCS6','DXCCS7','DXCCS8','DXCCS9','DXCCS10','DXCCS11',\n",
    "    'DXCCS12','DXCCS13','DXCCS14','DXCCS15','ECODE1','ECODE2','ECODE3','ECODE4','EDEVENT','E_CCS1','E_CCS2',\n",
    "    'E_CCS3','E_CCS4','FEMALE','HCUPFILE','HOSP_ED','INJURY','INJURY_CUT','INJURY_DROWN','INJURY_FALL',\n",
    "    'INJURY_FIRE','INJURY_FIREARM','INJURY_MACHINERY','INJURY_MVT','INJURY_NATURE','INJURY_POISON',\n",
    "    'INJURY_SEVERITY','INJURY_STRUCK','INJURY_SUFFOCATION','INTENT_ASSAULT','INTENT_SELF_HARM','INTENT_UNINTENTIONAL',\n",
    "    'KEY_ED','MULTINJURY','NDX','NECODE','NEDS_STRATUM','PAY1','PAY2','PL_NCHS2006','TOTCHG_ED','YEAR','ZIPINC_QRTL']"
   ]
  },
  {
   "cell_type": "code",
   "execution_count": 13,
   "metadata": {},
   "outputs": [],
   "source": [
    "filename = 'NEDS_2012_CORE.csv'\n",
    "df = dd.read_csv(filename, dtype='str', names=columns)"
   ]
  },
  {
   "cell_type": "markdown",
   "metadata": {},
   "source": [
    "### Feature Engineering"
   ]
  },
  {
   "cell_type": "markdown",
   "metadata": {},
   "source": [
    "For each disease listed, there was a corresponding chronic disease column that indicates if the listed disease was chronic. I created a column that is a sum of the number of chronic diseases listed per patient. "
   ]
  },
  {
   "cell_type": "code",
   "execution_count": 4,
   "metadata": {},
   "outputs": [],
   "source": [
    "def num_chronic_diseases(row):\n",
    "    num = 0\n",
    "    chron_column = ['CHRON1', 'CHRON2', 'CHRON3', 'CHRON4', 'CHRON5','CHRON6', 'CHRON7', 'CHRON8', 'CHRON9', 'CHRON10', 'CHRON11', 'CHRON12','CHRON13', 'CHRON14', 'CHRON15']\n",
    "    for column in chron_column:\n",
    "        if row[column] == 1:\n",
    "            num += 1\n",
    "    return num"
   ]
  },
  {
   "cell_type": "code",
   "execution_count": 15,
   "metadata": {},
   "outputs": [],
   "source": [
    "df['NUM_CHRON'] = df.apply(num_chronic_diseases, meta=(int), axis=1)"
   ]
  },
  {
   "cell_type": "code",
   "execution_count": null,
   "metadata": {},
   "outputs": [],
   "source": [
    "df['NUM_CHRON'].nunique().compute()"
   ]
  },
  {
   "cell_type": "code",
   "execution_count": null,
   "metadata": {},
   "outputs": [],
   "source": [
    "# drop the boolean chronic disease columns\n",
    "df = df.drop(['CHRON1', 'CHRON2', 'CHRON3', 'CHRON4', 'CHRON5','CHRON6', 'CHRON7', 'CHRON8', 'CHRON9', 'CHRON10', 'CHRON11', 'CHRON12','CHRON13', 'CHRON14', 'CHRON15'],1)"
   ]
  },
  {
   "cell_type": "markdown",
   "metadata": {},
   "source": [
    "ICD9 codes can be categorized by type of disease. Instead of one-hot-encoding each disease, I created bucked for each ICD9 code. "
   ]
  },
  {
   "cell_type": "code",
   "execution_count": null,
   "metadata": {},
   "outputs": [],
   "source": [
    "# created columns for each type of disease. each bucket starts at count 0.\n",
    "df[\"INFECTIOUS_PARASITIC\"] = 0\n",
    "df[\"NEOPLASMS\"] = 0\n",
    "df[\"ENDOCRINE\"] = 0\n",
    "df[\"BLOOD\"] = 0\n",
    "df[\"MENTAL_DISORDER\"] = 0\n",
    "df[\"NERVOUS_SYSTEM\"] = 0\n",
    "df[\"CIRCULATORY_SYSTEM\"] = 0\n",
    "df[\"RESPIRATORY\"] = 0\n",
    "df[\"DISGESTIVE\"] = 0\n",
    "df[\"GENITOURINARY\"] = 0\n",
    "df[\"PREGNANCY_COMPLICATION\"] = 0\n",
    "df[\"SKIN\"] = 0\n",
    "df[\"MUSCULOSKELETAL\"] = 0\n",
    "df[\"CONGENITAL_ANOMALIES\"] = 0\n",
    "df[\"PERINATAL\"] = 0\n",
    "df[\"ILL-DEFINED\"] = 0\n",
    "df[\"INJURY_AND_POISONING\"] = 0\n",
    "df[\"EXTERNAL_CAUSES\"] = 0    "
   ]
  },
  {
   "cell_type": "code",
   "execution_count": null,
   "metadata": {},
   "outputs": [],
   "source": [
    "def count_bucket(row, lower, upper):\n",
    "    ''' this function takes in a row as an input and will iterate through the diagnoses\n",
    "    columns. it will consider the lower and upper limit of each disease and will +1 to \n",
    "    the bucket of the diagnoses is within range'''\n",
    "    num = 0\n",
    "    diagnoses = ['DX1', 'DX2', 'DX3', 'DX4', 'DX5', 'DX6', 'DX7', 'DX8', 'DX9', 'DX10', 'DX11', 'DX12', 'DX13', 'DX14','DX15']\n",
    "    for diagnosis in diagnoses:\n",
    "        if str(row[diagnosis]) == 'nan': \n",
    "            x = 0\n",
    "        elif (str(row[diagnosis][0])) == 'V' or (str(row[diagnosis][0]) == 'E'):\n",
    "            x = 0\n",
    "        else:\n",
    "            try:\n",
    "                x = int(row[diagnosis])\n",
    "            except: \n",
    "                x = 0\n",
    "\n",
    "        if lower < x < upper:\n",
    "            num += 1\n",
    "            \n",
    "    return num"
   ]
  },
  {
   "cell_type": "code",
   "execution_count": null,
   "metadata": {},
   "outputs": [],
   "source": [
    "df['INFECTIOUS_PARASITIC'] = df.apply((lambda x: count_bucket(x, 100, 13900)), axis=1)\n",
    "df[\"NEOPLASMS\"] = df.apply((lambda x: count_bucket(x, 14000, 23900)), axis=1)\n",
    "df[\"ENDOCRINE\"] = df.apply((lambda x: count_bucket(x, 24000, 27900)), axis=1)\n",
    "df[\"BLOOD\"] = df.apply((lambda x: count_bucket(x, 28000, 28900)), axis=1)\n",
    "df[\"MENTAL_DISORDER\"] = df.apply((lambda x: count_bucket(x, 29000, 31900)), axis=1)\n",
    "df[\"NERVOUS_SYSTEM\"] = df.apply((lambda x: count_bucket(x, 32000, 38900)), axis=1)\n",
    "df[\"CIRCULATORY_SYSTEM\"] = df.apply((lambda x: count_bucket(x, 39000, 45900)), axis=1)\n",
    "df[\"RESPIRATORY\"] = df.apply((lambda x: count_bucket(x, 46000 , 51900)), axis=1)\n",
    "df[\"DISGESTIVE\"] = df.apply((lambda x: count_bucket(x, 52000 , 57900)), axis=1)\n",
    "df[\"GENITOURINARY\"] = df.apply((lambda x: count_bucket(x, 58000, 62900)), axis=1)\n",
    "df[\"PREGNANCY_COMPLICATION\"] = df.apply((lambda x: count_bucket(x, 63000, 67900)), axis=1)\n",
    "df[\"SKIN\"] = df.apply((lambda x: count_bucket(x, 68000, 70900)), axis=1)\n",
    "df[\"MUSCULOSKELETAL\"] = df.apply((lambda x: count_bucket(x, 71000, 73900)), axis=1)\n",
    "df[\"CONGENITAL_ANOMALIES\"] = df.apply((lambda x: count_bucket(x, 74000, 75900)), axis=1)\n",
    "df[\"PERINATAL\"] = df.apply((lambda x: count_bucket(x, 76000, 77900)), axis=1)\n",
    "df[\"ILL-DEFINED\"] = df.apply((lambda x: count_bucket(x, 78000, 79900)), axis=1)\n",
    "df[\"INJURY_AND_POISONING\"] = df.apply((lambda x: count_bucket(x, 80000 , 99900 )), axis=1)"
   ]
  },
  {
   "cell_type": "code",
   "execution_count": null,
   "metadata": {},
   "outputs": [],
   "source": [
    "def count_external_bucket(row):\n",
    "    '''this function will take a row as an input and +1 to the external causes column\n",
    "    if the disease begins with the letter V or E'''\n",
    "    num = 0\n",
    "    diagnoses = ['DX1', 'DX2', 'DX3', 'DX4', 'DX5', 'DX6', 'DX7', 'DX8', 'DX9', 'DX10', 'DX11', 'DX12', 'DX13', 'DX14','DX15']\n",
    "    for diagnosis in diagnoses:\n",
    "        try:\n",
    "            if (str(row[diagnosis][0])) == 'V' or (str(row[diagnosis][0]) == 'E'):\n",
    "                num += 1\n",
    "        except:\n",
    "            pass\n",
    "            \n",
    "    return num"
   ]
  },
  {
   "cell_type": "code",
   "execution_count": null,
   "metadata": {},
   "outputs": [],
   "source": [
    "df[\"EXTERNAL_CAUSES\"] = df.apply(count_external_bucket, axis=1)"
   ]
  },
  {
   "cell_type": "code",
   "execution_count": null,
   "metadata": {},
   "outputs": [],
   "source": [
    "# drop all of the diagnoses columns and only keep the disease buckets\n",
    "df = df.drop(['DX1', 'DX2', 'DX3', 'DX4', 'DX5',\n",
    "       'DX6', 'DX7', 'DX8', 'DX9', 'DX10', 'DX11', 'DX12', 'DX13', 'DX14',\n",
    "       'DX15', 'PAY1'],1)\n",
    "df.to_csv('sample1.csv')"
   ]
  },
  {
   "cell_type": "markdown",
   "metadata": {},
   "source": [
    "The data had an urban-rural scale from 1-6. I create dummy variables for each urban-rural category."
   ]
  },
  {
   "cell_type": "code",
   "execution_count": null,
   "metadata": {},
   "outputs": [],
   "source": [
    "urban_rural = pd.get_dummies(df['PL_NCHS2006'])"
   ]
  },
  {
   "cell_type": "code",
   "execution_count": null,
   "metadata": {},
   "outputs": [],
   "source": [
    "urban_rural = urban_rural.drop(-99,1)"
   ]
  },
  {
   "cell_type": "code",
   "execution_count": null,
   "metadata": {},
   "outputs": [],
   "source": [
    "urban_rural.columns = ['LARGE_CENTRAL_METRO', 'LARGE_FRINGE_METRO', 'MEDIUM_METRO', 'SMALL_METRO', 'MICROPOLITAN', 'NONPOLITAN']"
   ]
  },
  {
   "cell_type": "code",
   "execution_count": null,
   "metadata": {},
   "outputs": [],
   "source": [
    "df = df.join(urban_rural)\n",
    "df.head()"
   ]
  }
 ],
 "metadata": {
  "kernelspec": {
   "display_name": "Python 3",
   "language": "python",
   "name": "python3"
  },
  "language_info": {
   "codemirror_mode": {
    "name": "ipython",
    "version": 3
   },
   "file_extension": ".py",
   "mimetype": "text/x-python",
   "name": "python",
   "nbconvert_exporter": "python",
   "pygments_lexer": "ipython3",
   "version": "3.6.5"
  }
 },
 "nbformat": 4,
 "nbformat_minor": 2
}
